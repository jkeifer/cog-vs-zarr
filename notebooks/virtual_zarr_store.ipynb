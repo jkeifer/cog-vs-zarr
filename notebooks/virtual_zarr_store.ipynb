{
 "cells": [
  {
   "cell_type": "code",
   "execution_count": 1,
   "id": "fc093ee3-e4cf-4a68-a644-ae61dd6fc9a8",
   "metadata": {
    "execution": {
     "iopub.execute_input": "2025-09-12T18:55:19.407782Z",
     "iopub.status.busy": "2025-09-12T18:55:19.407189Z",
     "iopub.status.idle": "2025-09-12T18:55:21.331978Z",
     "shell.execute_reply": "2025-09-12T18:55:21.331503Z",
     "shell.execute_reply.started": "2025-09-12T18:55:19.407723Z"
    }
   },
   "outputs": [],
   "source": [
    "import virtualizarr"
   ]
  },
  {
   "cell_type": "code",
   "execution_count": null,
   "id": "dc5543d5-9f90-44d1-85ab-a6f37b1a999f",
   "metadata": {},
   "outputs": [],
   "source": []
  }
 ],
 "metadata": {
  "kernelspec": {
   "display_name": "Python 3 (ipykernel)",
   "language": "python",
   "name": "python3"
  },
  "language_info": {
   "codemirror_mode": {
    "name": "ipython",
    "version": 3
   },
   "file_extension": ".py",
   "mimetype": "text/x-python",
   "name": "python",
   "nbconvert_exporter": "python",
   "pygments_lexer": "ipython3",
   "version": "3.13.2"
  }
 },
 "nbformat": 4,
 "nbformat_minor": 5
}
